{
 "cells": [
  {
   "cell_type": "markdown",
   "id": "bf4646f5",
   "metadata": {},
   "source": [
    "# Convert ClinVar TSV/VCF → CSV"
   ]
  },
  {
   "cell_type": "markdown",
   "id": "93d819b1",
   "metadata": {},
   "source": [
    "\n",
    "**Output columns:** `chrom,pos,ref,alt,gene_symbol,clinical_significance,hgvs_p`\n",
    "\n",
    "- Keeps **Pathogenic/Benign** (optionally collapses Likely_*).\n",
    "- For VCF reading, install `cyvcf2`.\n"
   ]
  },
  {
   "cell_type": "code",
   "execution_count": 1,
   "id": "eacddd9b",
   "metadata": {},
   "outputs": [],
   "source": [
    "\n",
    "from pathlib import Path\n",
    "import pandas as pd, numpy as np\n",
    "import re\n",
    "\n",
    "INPUT_PATH = Path(\"../data/clinvar_input.tsv\")  # or ../data/clinvar_input.vcf.gz\n",
    "OUTPUT_CSV = Path(\"../data/clinvar_clean.csv\")\n",
    "\n",
    "COLLAPSE_LIKELY = True\n",
    "KEEP_MAP = {\n",
    "    \"pathogenic\": \"Pathogenic\",\n",
    "    \"likely_pathogenic\": \"Pathogenic\",\n",
    "    \"benign\": \"Benign\",\n",
    "    \"likely_benign\": \"Benign\"\n",
    "}\n",
    "\n",
    "def normalize_clinsig(s):\n",
    "    if s is None or (isinstance(s, float) and np.isnan(s)):\n",
    "        return None\n",
    "    parts = re.split(r\"[|/,;]\", str(s))\n",
    "    for p in parts:\n",
    "        key = p.strip().lower().replace(\" \", \"_\")\n",
    "        if key in KEEP_MAP:\n",
    "            if COLLAPSE_LIKELY:\n",
    "                return KEEP_MAP[key]\n",
    "            # else keep only strict\n",
    "            if key in [\"pathogenic\",\"benign\"]:\n",
    "                return key.capitalize()\n",
    "    return None\n"
   ]
  },
  {
   "cell_type": "code",
   "execution_count": 2,
   "id": "838ff769",
   "metadata": {},
   "outputs": [],
   "source": [
    "\n",
    "def tsv_to_csv(path: Path, out_csv: Path) -> Path:\n",
    "    df = pd.read_csv(path, sep=\"\\t\", dtype=str, low_memory=False)\n",
    "    cols = {c.lower(): c for c in df.columns}\n",
    "\n",
    "    def pick(*cands):\n",
    "        for c in cands:\n",
    "            cl = c.lower()\n",
    "            if cl in cols:\n",
    "                return cols[cl]\n",
    "        return None\n",
    "\n",
    "    col_chrom = pick(\"chromosome\",\"chrom\",\"chr\")\n",
    "    col_pos   = pick(\"start\",\"pos\",\"position\")\n",
    "    col_ref   = pick(\"referenceallele\",\"ref\")\n",
    "    col_alt   = pick(\"alternateallele\",\"alt\",\"altallele\")\n",
    "    col_gene  = pick(\"genesymbol\",\"gene_symbol\",\"gene\",\"symbol\")\n",
    "    col_sig   = pick(\"clinicalsignificance\",\"clinsig\",\"clinical_significance\")\n",
    "    col_hgvs_p= pick(\"hgvsp\",\"hgvs_p\",\"protein_change\",\"protein_hgvs\")\n",
    "\n",
    "    if not all([col_chrom,col_pos,col_ref,col_alt,col_gene,col_sig]):\n",
    "        raise ValueError(\"Missing required columns in TSV.\")\n",
    "\n",
    "    df[\"clinical_significance\"] = df[col_sig].apply(normalize_clinsig)\n",
    "    df = df[df[\"clinical_significance\"].isin([\"Pathogenic\",\"Benign\"])].copy()\n",
    "\n",
    "    out = pd.DataFrame({\n",
    "        \"chrom\": df[col_chrom].astype(str),\n",
    "        \"pos\": pd.to_numeric(df[col_pos], errors=\"coerce\").astype(\"Int64\"),\n",
    "        \"ref\": df[col_ref].astype(str),\n",
    "        \"alt\": df[col_alt].astype(str),\n",
    "        \"gene_symbol\": df[col_gene].astype(str),\n",
    "        \"hgvs_p\": df[col_hgvs_p].astype(str) if col_hgvs_p else \"\"\n",
    "    }).dropna(subset=[\"pos\"])\n",
    "\n",
    "    out.to_csv(out_csv, index=False)\n",
    "    return out_csv\n"
   ]
  },
  {
   "cell_type": "code",
   "execution_count": 3,
   "id": "72cde1bc",
   "metadata": {},
   "outputs": [],
   "source": [
    "\n",
    "def vcf_to_csv(path: Path, out_csv: Path) -> Path:\n",
    "    from cyvcf2 import VCF\n",
    "    rows = []\n",
    "    for rec in VCF(str(path)):\n",
    "        info = rec.INFO or {}\n",
    "        # CLNSIG often present; sometimes combined\n",
    "        label = normalize_clinsig(info.get(\"CLNSIG\") or info.get(\"CLNSIGCONF\") or \"\")\n",
    "        if label not in [\"Pathogenic\",\"Benign\"]:\n",
    "            continue\n",
    "\n",
    "        gene = \"\"\n",
    "        gi = info.get(\"GENEINFO\")\n",
    "        if gi:\n",
    "            gene = str(gi).split(\"|\")[0].split(\":\")[0]\n",
    "\n",
    "        hgvs_p = \"\"\n",
    "        for key in [\"HGVSP\",\"HGVSp\",\"HGVS_P\",\"HGVS\"]:\n",
    "            if key in info and info[key]:\n",
    "                hgvs_p = str(info[key])\n",
    "                break\n",
    "\n",
    "        chrom = str(rec.CHROM)\n",
    "        pos = int(rec.POS)\n",
    "        ref = rec.REF\n",
    "        for alt in rec.ALT or []:\n",
    "            rows.append({\n",
    "                \"chrom\": chrom, \"pos\": pos, \"ref\": ref, \"alt\": alt,\n",
    "                \"gene_symbol\": gene, \"clinical_significance\": label, \"hgvs_p\": hgvs_p\n",
    "            })\n",
    "    out = pd.DataFrame.from_records(rows)\n",
    "    if not out.empty:\n",
    "        out.to_csv(out_csv, index=False)\n",
    "    return out_csv\n"
   ]
  },
  {
   "cell_type": "code",
   "execution_count": 4,
   "id": "38257c61",
   "metadata": {},
   "outputs": [
    {
     "name": "stdout",
     "output_type": "stream",
     "text": [
      "Upload your ClinVar file to: /Users/rahuls/Desktop/science/data/clinvar_input.tsv\n"
     ]
    }
   ],
   "source": [
    "\n",
    "inp = Path(INPUT_PATH)\n",
    "if not inp.exists():\n",
    "    print(\"Upload your ClinVar file to:\", inp.resolve())\n",
    "else:\n",
    "    if any(s in \"\".join(inp.suffixes).lower() for s in [\".tsv\",\".txt\"]):\n",
    "        out = tsv_to_csv(inp, OUTPUT_CSV)\n",
    "        print(\"Wrote CSV:\", out)\n",
    "    elif any(s in \"\".join(inp.suffixes).lower() for s in [\".vcf\",\".vcf.gz\",\".gz\"]):\n",
    "        out = vcf_to_csv(inp, OUTPUT_CSV)\n",
    "        print(\"Wrote CSV:\", out)\n",
    "    else:\n",
    "        raise ValueError(\"Unknown input type. Use TSV/TXT or VCF/VCF.GZ\")\n"
   ]
  },
  {
   "cell_type": "code",
   "execution_count": 5,
   "id": "d637bb3a",
   "metadata": {},
   "outputs": [
    {
     "name": "stdout",
     "output_type": "stream",
     "text": [
      "No output yet. Run the conversion cell above after setting INPUT_PATH.\n"
     ]
    }
   ],
   "source": [
    "\n",
    "# Sanity check\n",
    "out = Path(\"../data/clinvar_clean.csv\")\n",
    "if out.exists():\n",
    "    df = pd.read_csv(out)\n",
    "    print(\"Rows:\", len(df))\n",
    "    print(df[\"clinical_significance\"].value_counts())\n",
    "    print(df.head())\n",
    "else:\n",
    "    print(\"No output yet. Run the conversion cell above after setting INPUT_PATH.\")\n"
   ]
  },
  {
   "cell_type": "code",
   "execution_count": null,
   "id": "bd9991c4-5ff2-4b22-98c1-5546bd18d514",
   "metadata": {},
   "outputs": [],
   "source": []
  }
 ],
 "metadata": {
  "kernelspec": {
   "display_name": "Python 3 (ipykernel)",
   "language": "python",
   "name": "python3"
  },
  "language_info": {
   "codemirror_mode": {
    "name": "ipython",
    "version": 3
   },
   "file_extension": ".py",
   "mimetype": "text/x-python",
   "name": "python",
   "nbconvert_exporter": "python",
   "pygments_lexer": "ipython3",
   "version": "3.13.7"
  }
 },
 "nbformat": 4,
 "nbformat_minor": 5
}
